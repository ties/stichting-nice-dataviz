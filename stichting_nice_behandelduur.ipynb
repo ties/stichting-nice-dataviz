{
 "cells": [
  {
   "cell_type": "code",
   "execution_count": 5,
   "metadata": {},
   "outputs": [],
   "source": [
    "import requests\n",
    "\n",
    "import altair as alt\n",
    "import pandas as pd"
   ]
  },
  {
   "cell_type": "markdown",
   "metadata": {},
   "source": [
    "Download treatment duration data\n",
    "Sample data is in `behandelduur-distribution-20200425.json\n",
    "\n"
   ]
  },
  {
   "cell_type": "code",
   "execution_count": 6,
   "metadata": {},
   "outputs": [],
   "source": [
    "treatment_duration = requests.get(\"https://www.stichting-nice.nl/covid-19/public/behandelduur-distribution/\").json()"
   ]
  },
  {
   "cell_type": "code",
   "execution_count": 90,
   "metadata": {},
   "outputs": [],
   "source": [
    "# treatment_duration:\n",
    "#\n",
    "# [0]: levend_nog_opgenomen_ziekenhuis\n",
    "# [1]: nog_opgenomen_ic\n",
    "# [2]: levend_ziekenhuis_verlaten\n",
    "# [3]: overleden\n",
    "levend_nog_opgenomen_ziekenhuis = treatment_duration[0]\n",
    "nog_opgenomen_ic = treatment_duration[1]\n",
    "levend_ziekenhuis_verlaten = treatment_duration[2]\n",
    "overleden = treatment_duration[3]\n",
    "\n",
    "def parse_tuples(tpls, name: str) -> pd.DataFrame:\n",
    "    # Push [0,0] to front of data so it starts at 0\n",
    "    tpls[-1] = ((0,0))\n",
    "    return pd.DataFrame(tpls, columns=['days', name]).set_index('days')\n",
    "\n",
    "treatment_duration_df = parse_tuples(levend_nog_opgenomen_ziekenhuis, 'levend_nog_opgenomen_ziekenhuis')\\\n",
    "    .join(parse_tuples(nog_opgenomen_ic, 'nog_opgenomen_ic'), how='outer')\\\n",
    "    .join(parse_tuples(levend_ziekenhuis_verlaten, 'levend_ziekenhuis_verlaten'), how='outer')\\\n",
    "    .join(parse_tuples(overleden, 'overleden'), how='outer')\\\n",
    "    .fillna(0)\n",
    "    # Fill all the 0's after joining because it may lengthen the data\n"
   ]
  },
  {
   "cell_type": "code",
   "execution_count": 91,
   "metadata": {},
   "outputs": [
    {
     "data": {
      "text/html": [
       "<div>\n",
       "<style scoped>\n",
       "    .dataframe tbody tr th:only-of-type {\n",
       "        vertical-align: middle;\n",
       "    }\n",
       "\n",
       "    .dataframe tbody tr th {\n",
       "        vertical-align: top;\n",
       "    }\n",
       "\n",
       "    .dataframe thead th {\n",
       "        text-align: right;\n",
       "    }\n",
       "</style>\n",
       "<table border=\"1\" class=\"dataframe\">\n",
       "  <thead>\n",
       "    <tr style=\"text-align: right;\">\n",
       "      <th></th>\n",
       "      <th>levend_nog_opgenomen_ziekenhuis</th>\n",
       "      <th>nog_opgenomen_ic</th>\n",
       "      <th>levend_ziekenhuis_verlaten</th>\n",
       "      <th>overleden</th>\n",
       "    </tr>\n",
       "    <tr>\n",
       "      <th>days</th>\n",
       "      <th></th>\n",
       "      <th></th>\n",
       "      <th></th>\n",
       "      <th></th>\n",
       "    </tr>\n",
       "  </thead>\n",
       "  <tbody>\n",
       "    <tr>\n",
       "      <th>0</th>\n",
       "      <td>0</td>\n",
       "      <td>0</td>\n",
       "      <td>0.0</td>\n",
       "      <td>0.0</td>\n",
       "    </tr>\n",
       "    <tr>\n",
       "      <th>1</th>\n",
       "      <td>20</td>\n",
       "      <td>7</td>\n",
       "      <td>3.0</td>\n",
       "      <td>24.0</td>\n",
       "    </tr>\n",
       "    <tr>\n",
       "      <th>2</th>\n",
       "      <td>40</td>\n",
       "      <td>22</td>\n",
       "      <td>6.0</td>\n",
       "      <td>54.0</td>\n",
       "    </tr>\n",
       "    <tr>\n",
       "      <th>3</th>\n",
       "      <td>59</td>\n",
       "      <td>31</td>\n",
       "      <td>20.0</td>\n",
       "      <td>80.0</td>\n",
       "    </tr>\n",
       "    <tr>\n",
       "      <th>4</th>\n",
       "      <td>72</td>\n",
       "      <td>42</td>\n",
       "      <td>31.0</td>\n",
       "      <td>116.0</td>\n",
       "    </tr>\n",
       "  </tbody>\n",
       "</table>\n",
       "</div>"
      ],
      "text/plain": [
       "      levend_nog_opgenomen_ziekenhuis  nog_opgenomen_ic  \\\n",
       "days                                                      \n",
       "0                                   0                 0   \n",
       "1                                  20                 7   \n",
       "2                                  40                22   \n",
       "3                                  59                31   \n",
       "4                                  72                42   \n",
       "\n",
       "      levend_ziekenhuis_verlaten  overleden  \n",
       "days                                         \n",
       "0                            0.0        0.0  \n",
       "1                            3.0       24.0  \n",
       "2                            6.0       54.0  \n",
       "3                           20.0       80.0  \n",
       "4                           31.0      116.0  "
      ]
     },
     "execution_count": 91,
     "metadata": {},
     "output_type": "execute_result"
    }
   ],
   "source": [
    "# Cumulative sum by column\n",
    "treatment_duration_df.cumsum().head()"
   ]
  },
  {
   "cell_type": "code",
   "execution_count": 108,
   "metadata": {},
   "outputs": [
    {
     "data": {
      "text/html": [
       "\n",
       "<div id=\"altair-viz-e5dffeb8a79443df802ac80b71208f03\"></div>\n",
       "<script type=\"text/javascript\">\n",
       "  (function(spec, embedOpt){\n",
       "    let outputDiv = document.currentScript.previousElementSibling;\n",
       "    if (outputDiv.id !== \"altair-viz-e5dffeb8a79443df802ac80b71208f03\") {\n",
       "      outputDiv = document.getElementById(\"altair-viz-e5dffeb8a79443df802ac80b71208f03\");\n",
       "    }\n",
       "    const paths = {\n",
       "      \"vega\": \"https://cdn.jsdelivr.net/npm//vega@5?noext\",\n",
       "      \"vega-lib\": \"https://cdn.jsdelivr.net/npm//vega-lib?noext\",\n",
       "      \"vega-lite\": \"https://cdn.jsdelivr.net/npm//vega-lite@4.8.1?noext\",\n",
       "      \"vega-embed\": \"https://cdn.jsdelivr.net/npm//vega-embed@6?noext\",\n",
       "    };\n",
       "\n",
       "    function loadScript(lib) {\n",
       "      return new Promise(function(resolve, reject) {\n",
       "        var s = document.createElement('script');\n",
       "        s.src = paths[lib];\n",
       "        s.async = true;\n",
       "        s.onload = () => resolve(paths[lib]);\n",
       "        s.onerror = () => reject(`Error loading script: ${paths[lib]}`);\n",
       "        document.getElementsByTagName(\"head\")[0].appendChild(s);\n",
       "      });\n",
       "    }\n",
       "\n",
       "    function showError(err) {\n",
       "      outputDiv.innerHTML = `<div class=\"error\" style=\"color:red;\">${err}</div>`;\n",
       "      throw err;\n",
       "    }\n",
       "\n",
       "    function displayChart(vegaEmbed) {\n",
       "      vegaEmbed(outputDiv, spec, embedOpt)\n",
       "        .catch(err => showError(`Javascript Error: ${err.message}<br>This usually means there's a typo in your chart specification. See the javascript console for the full traceback.`));\n",
       "    }\n",
       "\n",
       "    if(typeof define === \"function\" && define.amd) {\n",
       "      requirejs.config({paths});\n",
       "      require([\"vega-embed\"], displayChart, err => showError(`Error loading script: ${err.message}`));\n",
       "    } else if (typeof vegaEmbed === \"function\") {\n",
       "      displayChart(vegaEmbed);\n",
       "    } else {\n",
       "      loadScript(\"vega\")\n",
       "        .then(() => loadScript(\"vega-lite\"))\n",
       "        .then(() => loadScript(\"vega-embed\"))\n",
       "        .catch(showError)\n",
       "        .then(() => displayChart(vegaEmbed));\n",
       "    }\n",
       "  })({\"config\": {\"view\": {\"continuousWidth\": 400, \"continuousHeight\": 300}}, \"data\": {\"name\": \"data-9630e2045ebf4a179f454f83f54b3877\"}, \"mark\": \"bar\", \"encoding\": {\"color\": {\"type\": \"nominal\", \"field\": \"variable\", \"legend\": {\"title\": \"Uitkomst\"}}, \"x\": {\"type\": \"ordinal\", \"axis\": {\"title\": \"Dagen na opname\"}, \"field\": \"days\"}, \"y\": {\"type\": \"quantitative\", \"axis\": {\"title\": \"Aantal IC opnamen\"}, \"field\": \"value\"}}, \"$schema\": \"https://vega.github.io/schema/vega-lite/v4.8.1.json\", \"datasets\": {\"data-9630e2045ebf4a179f454f83f54b3877\": [{\"days\": 0, \"variable\": \"levend_nog_opgenomen_ziekenhuis\", \"value\": 0.0}, {\"days\": 1, \"variable\": \"levend_nog_opgenomen_ziekenhuis\", \"value\": 20.0}, {\"days\": 2, \"variable\": \"levend_nog_opgenomen_ziekenhuis\", \"value\": 20.0}, {\"days\": 3, \"variable\": \"levend_nog_opgenomen_ziekenhuis\", \"value\": 19.0}, {\"days\": 4, \"variable\": \"levend_nog_opgenomen_ziekenhuis\", \"value\": 13.0}, {\"days\": 5, \"variable\": \"levend_nog_opgenomen_ziekenhuis\", \"value\": 19.0}, {\"days\": 6, \"variable\": \"levend_nog_opgenomen_ziekenhuis\", \"value\": 11.0}, {\"days\": 7, \"variable\": \"levend_nog_opgenomen_ziekenhuis\", \"value\": 10.0}, {\"days\": 8, \"variable\": \"levend_nog_opgenomen_ziekenhuis\", \"value\": 10.0}, {\"days\": 9, \"variable\": \"levend_nog_opgenomen_ziekenhuis\", \"value\": 3.0}, {\"days\": 10, \"variable\": \"levend_nog_opgenomen_ziekenhuis\", \"value\": 5.0}, {\"days\": 11, \"variable\": \"levend_nog_opgenomen_ziekenhuis\", \"value\": 7.0}, {\"days\": 12, \"variable\": \"levend_nog_opgenomen_ziekenhuis\", \"value\": 12.0}, {\"days\": 13, \"variable\": \"levend_nog_opgenomen_ziekenhuis\", \"value\": 15.0}, {\"days\": 14, \"variable\": \"levend_nog_opgenomen_ziekenhuis\", \"value\": 15.0}, {\"days\": 15, \"variable\": \"levend_nog_opgenomen_ziekenhuis\", \"value\": 10.0}, {\"days\": 16, \"variable\": \"levend_nog_opgenomen_ziekenhuis\", \"value\": 27.0}, {\"days\": 17, \"variable\": \"levend_nog_opgenomen_ziekenhuis\", \"value\": 25.0}, {\"days\": 18, \"variable\": \"levend_nog_opgenomen_ziekenhuis\", \"value\": 21.0}, {\"days\": 19, \"variable\": \"levend_nog_opgenomen_ziekenhuis\", \"value\": 12.0}, {\"days\": 20, \"variable\": \"levend_nog_opgenomen_ziekenhuis\", \"value\": 25.0}, {\"days\": 21, \"variable\": \"levend_nog_opgenomen_ziekenhuis\", \"value\": 25.0}, {\"days\": 22, \"variable\": \"levend_nog_opgenomen_ziekenhuis\", \"value\": 21.0}, {\"days\": 23, \"variable\": \"levend_nog_opgenomen_ziekenhuis\", \"value\": 23.0}, {\"days\": 24, \"variable\": \"levend_nog_opgenomen_ziekenhuis\", \"value\": 15.0}, {\"days\": 25, \"variable\": \"levend_nog_opgenomen_ziekenhuis\", \"value\": 13.0}, {\"days\": 26, \"variable\": \"levend_nog_opgenomen_ziekenhuis\", \"value\": 21.0}, {\"days\": 27, \"variable\": \"levend_nog_opgenomen_ziekenhuis\", \"value\": 25.0}, {\"days\": 28, \"variable\": \"levend_nog_opgenomen_ziekenhuis\", \"value\": 19.0}, {\"days\": 29, \"variable\": \"levend_nog_opgenomen_ziekenhuis\", \"value\": 25.0}, {\"days\": 30, \"variable\": \"levend_nog_opgenomen_ziekenhuis\", \"value\": 16.0}, {\"days\": 31, \"variable\": \"levend_nog_opgenomen_ziekenhuis\", \"value\": 21.0}, {\"days\": 32, \"variable\": \"levend_nog_opgenomen_ziekenhuis\", \"value\": 24.0}, {\"days\": 33, \"variable\": \"levend_nog_opgenomen_ziekenhuis\", \"value\": 21.0}, {\"days\": 34, \"variable\": \"levend_nog_opgenomen_ziekenhuis\", \"value\": 30.0}, {\"days\": 35, \"variable\": \"levend_nog_opgenomen_ziekenhuis\", \"value\": 16.0}, {\"days\": 36, \"variable\": \"levend_nog_opgenomen_ziekenhuis\", \"value\": 18.0}, {\"days\": 37, \"variable\": \"levend_nog_opgenomen_ziekenhuis\", \"value\": 19.0}, {\"days\": 38, \"variable\": \"levend_nog_opgenomen_ziekenhuis\", \"value\": 18.0}, {\"days\": 39, \"variable\": \"levend_nog_opgenomen_ziekenhuis\", \"value\": 7.0}, {\"days\": 0, \"variable\": \"nog_opgenomen_ic\", \"value\": 0.0}, {\"days\": 1, \"variable\": \"nog_opgenomen_ic\", \"value\": 7.0}, {\"days\": 2, \"variable\": \"nog_opgenomen_ic\", \"value\": 15.0}, {\"days\": 3, \"variable\": \"nog_opgenomen_ic\", \"value\": 9.0}, {\"days\": 4, \"variable\": \"nog_opgenomen_ic\", \"value\": 11.0}, {\"days\": 5, \"variable\": \"nog_opgenomen_ic\", \"value\": 13.0}, {\"days\": 6, \"variable\": \"nog_opgenomen_ic\", \"value\": 16.0}, {\"days\": 7, \"variable\": \"nog_opgenomen_ic\", \"value\": 11.0}, {\"days\": 8, \"variable\": \"nog_opgenomen_ic\", \"value\": 12.0}, {\"days\": 9, \"variable\": \"nog_opgenomen_ic\", \"value\": 15.0}, {\"days\": 10, \"variable\": \"nog_opgenomen_ic\", \"value\": 20.0}, {\"days\": 11, \"variable\": \"nog_opgenomen_ic\", \"value\": 22.0}, {\"days\": 12, \"variable\": \"nog_opgenomen_ic\", \"value\": 27.0}, {\"days\": 13, \"variable\": \"nog_opgenomen_ic\", \"value\": 24.0}, {\"days\": 14, \"variable\": \"nog_opgenomen_ic\", \"value\": 23.0}, {\"days\": 15, \"variable\": \"nog_opgenomen_ic\", \"value\": 15.0}, {\"days\": 16, \"variable\": \"nog_opgenomen_ic\", \"value\": 20.0}, {\"days\": 17, \"variable\": \"nog_opgenomen_ic\", \"value\": 28.0}, {\"days\": 18, \"variable\": \"nog_opgenomen_ic\", \"value\": 20.0}, {\"days\": 19, \"variable\": \"nog_opgenomen_ic\", \"value\": 20.0}, {\"days\": 20, \"variable\": \"nog_opgenomen_ic\", \"value\": 28.0}, {\"days\": 21, \"variable\": \"nog_opgenomen_ic\", \"value\": 26.0}, {\"days\": 22, \"variable\": \"nog_opgenomen_ic\", \"value\": 17.0}, {\"days\": 23, \"variable\": \"nog_opgenomen_ic\", \"value\": 34.0}, {\"days\": 24, \"variable\": \"nog_opgenomen_ic\", \"value\": 33.0}, {\"days\": 25, \"variable\": \"nog_opgenomen_ic\", \"value\": 33.0}, {\"days\": 26, \"variable\": \"nog_opgenomen_ic\", \"value\": 26.0}, {\"days\": 27, \"variable\": \"nog_opgenomen_ic\", \"value\": 53.0}, {\"days\": 28, \"variable\": \"nog_opgenomen_ic\", \"value\": 33.0}, {\"days\": 29, \"variable\": \"nog_opgenomen_ic\", \"value\": 28.0}, {\"days\": 30, \"variable\": \"nog_opgenomen_ic\", \"value\": 39.0}, {\"days\": 31, \"variable\": \"nog_opgenomen_ic\", \"value\": 22.0}, {\"days\": 32, \"variable\": \"nog_opgenomen_ic\", \"value\": 25.0}, {\"days\": 33, \"variable\": \"nog_opgenomen_ic\", \"value\": 20.0}, {\"days\": 34, \"variable\": \"nog_opgenomen_ic\", \"value\": 13.0}, {\"days\": 35, \"variable\": \"nog_opgenomen_ic\", \"value\": 18.0}, {\"days\": 36, \"variable\": \"nog_opgenomen_ic\", \"value\": 16.0}, {\"days\": 37, \"variable\": \"nog_opgenomen_ic\", \"value\": 16.0}, {\"days\": 38, \"variable\": \"nog_opgenomen_ic\", \"value\": 13.0}, {\"days\": 39, \"variable\": \"nog_opgenomen_ic\", \"value\": 6.0}, {\"days\": 0, \"variable\": \"levend_ziekenhuis_verlaten\", \"value\": 0.0}, {\"days\": 1, \"variable\": \"levend_ziekenhuis_verlaten\", \"value\": 3.0}, {\"days\": 2, \"variable\": \"levend_ziekenhuis_verlaten\", \"value\": 3.0}, {\"days\": 3, \"variable\": \"levend_ziekenhuis_verlaten\", \"value\": 14.0}, {\"days\": 4, \"variable\": \"levend_ziekenhuis_verlaten\", \"value\": 11.0}, {\"days\": 5, \"variable\": \"levend_ziekenhuis_verlaten\", \"value\": 9.0}, {\"days\": 6, \"variable\": \"levend_ziekenhuis_verlaten\", \"value\": 11.0}, {\"days\": 7, \"variable\": \"levend_ziekenhuis_verlaten\", \"value\": 12.0}, {\"days\": 8, \"variable\": \"levend_ziekenhuis_verlaten\", \"value\": 13.0}, {\"days\": 9, \"variable\": \"levend_ziekenhuis_verlaten\", \"value\": 12.0}, {\"days\": 10, \"variable\": \"levend_ziekenhuis_verlaten\", \"value\": 19.0}, {\"days\": 11, \"variable\": \"levend_ziekenhuis_verlaten\", \"value\": 20.0}, {\"days\": 12, \"variable\": \"levend_ziekenhuis_verlaten\", \"value\": 27.0}, {\"days\": 13, \"variable\": \"levend_ziekenhuis_verlaten\", \"value\": 27.0}, {\"days\": 14, \"variable\": \"levend_ziekenhuis_verlaten\", \"value\": 28.0}, {\"days\": 15, \"variable\": \"levend_ziekenhuis_verlaten\", \"value\": 22.0}, {\"days\": 16, \"variable\": \"levend_ziekenhuis_verlaten\", \"value\": 35.0}, {\"days\": 17, \"variable\": \"levend_ziekenhuis_verlaten\", \"value\": 26.0}, {\"days\": 18, \"variable\": \"levend_ziekenhuis_verlaten\", \"value\": 22.0}, {\"days\": 19, \"variable\": \"levend_ziekenhuis_verlaten\", \"value\": 26.0}, {\"days\": 20, \"variable\": \"levend_ziekenhuis_verlaten\", \"value\": 24.0}, {\"days\": 21, \"variable\": \"levend_ziekenhuis_verlaten\", \"value\": 18.0}, {\"days\": 22, \"variable\": \"levend_ziekenhuis_verlaten\", \"value\": 24.0}, {\"days\": 23, \"variable\": \"levend_ziekenhuis_verlaten\", \"value\": 13.0}, {\"days\": 24, \"variable\": \"levend_ziekenhuis_verlaten\", \"value\": 14.0}, {\"days\": 25, \"variable\": \"levend_ziekenhuis_verlaten\", \"value\": 12.0}, {\"days\": 26, \"variable\": \"levend_ziekenhuis_verlaten\", \"value\": 15.0}, {\"days\": 27, \"variable\": \"levend_ziekenhuis_verlaten\", \"value\": 13.0}, {\"days\": 28, \"variable\": \"levend_ziekenhuis_verlaten\", \"value\": 10.0}, {\"days\": 29, \"variable\": \"levend_ziekenhuis_verlaten\", \"value\": 3.0}, {\"days\": 30, \"variable\": \"levend_ziekenhuis_verlaten\", \"value\": 12.0}, {\"days\": 31, \"variable\": \"levend_ziekenhuis_verlaten\", \"value\": 7.0}, {\"days\": 32, \"variable\": \"levend_ziekenhuis_verlaten\", \"value\": 6.0}, {\"days\": 33, \"variable\": \"levend_ziekenhuis_verlaten\", \"value\": 5.0}, {\"days\": 34, \"variable\": \"levend_ziekenhuis_verlaten\", \"value\": 3.0}, {\"days\": 35, \"variable\": \"levend_ziekenhuis_verlaten\", \"value\": 5.0}, {\"days\": 36, \"variable\": \"levend_ziekenhuis_verlaten\", \"value\": 4.0}, {\"days\": 37, \"variable\": \"levend_ziekenhuis_verlaten\", \"value\": 1.0}, {\"days\": 38, \"variable\": \"levend_ziekenhuis_verlaten\", \"value\": 0.0}, {\"days\": 39, \"variable\": \"levend_ziekenhuis_verlaten\", \"value\": 0.0}, {\"days\": 0, \"variable\": \"overleden\", \"value\": 0.0}, {\"days\": 1, \"variable\": \"overleden\", \"value\": 24.0}, {\"days\": 2, \"variable\": \"overleden\", \"value\": 30.0}, {\"days\": 3, \"variable\": \"overleden\", \"value\": 26.0}, {\"days\": 4, \"variable\": \"overleden\", \"value\": 36.0}, {\"days\": 5, \"variable\": \"overleden\", \"value\": 38.0}, {\"days\": 6, \"variable\": \"overleden\", \"value\": 32.0}, {\"days\": 7, \"variable\": \"overleden\", \"value\": 30.0}, {\"days\": 8, \"variable\": \"overleden\", \"value\": 39.0}, {\"days\": 9, \"variable\": \"overleden\", \"value\": 33.0}, {\"days\": 10, \"variable\": \"overleden\", \"value\": 32.0}, {\"days\": 11, \"variable\": \"overleden\", \"value\": 27.0}, {\"days\": 12, \"variable\": \"overleden\", \"value\": 32.0}, {\"days\": 13, \"variable\": \"overleden\", \"value\": 21.0}, {\"days\": 14, \"variable\": \"overleden\", \"value\": 23.0}, {\"days\": 15, \"variable\": \"overleden\", \"value\": 26.0}, {\"days\": 16, \"variable\": \"overleden\", \"value\": 23.0}, {\"days\": 17, \"variable\": \"overleden\", \"value\": 10.0}, {\"days\": 18, \"variable\": \"overleden\", \"value\": 20.0}, {\"days\": 19, \"variable\": \"overleden\", \"value\": 21.0}, {\"days\": 20, \"variable\": \"overleden\", \"value\": 20.0}, {\"days\": 21, \"variable\": \"overleden\", \"value\": 14.0}, {\"days\": 22, \"variable\": \"overleden\", \"value\": 9.0}, {\"days\": 23, \"variable\": \"overleden\", \"value\": 18.0}, {\"days\": 24, \"variable\": \"overleden\", \"value\": 13.0}, {\"days\": 25, \"variable\": \"overleden\", \"value\": 15.0}, {\"days\": 26, \"variable\": \"overleden\", \"value\": 12.0}, {\"days\": 27, \"variable\": \"overleden\", \"value\": 8.0}, {\"days\": 28, \"variable\": \"overleden\", \"value\": 7.0}, {\"days\": 29, \"variable\": \"overleden\", \"value\": 6.0}, {\"days\": 30, \"variable\": \"overleden\", \"value\": 1.0}, {\"days\": 31, \"variable\": \"overleden\", \"value\": 4.0}, {\"days\": 32, \"variable\": \"overleden\", \"value\": 5.0}, {\"days\": 33, \"variable\": \"overleden\", \"value\": 1.0}, {\"days\": 34, \"variable\": \"overleden\", \"value\": 2.0}, {\"days\": 35, \"variable\": \"overleden\", \"value\": 0.0}, {\"days\": 36, \"variable\": \"overleden\", \"value\": 0.0}, {\"days\": 37, \"variable\": \"overleden\", \"value\": 0.0}, {\"days\": 38, \"variable\": \"overleden\", \"value\": 0.0}, {\"days\": 39, \"variable\": \"overleden\", \"value\": 0.0}]}}, {\"mode\": \"vega-lite\"});\n",
       "</script>"
      ],
      "text/plain": [
       "alt.Chart(...)"
      ]
     },
     "execution_count": 108,
     "metadata": {},
     "output_type": "execute_result"
    }
   ],
   "source": [
    "# Take cumulative sum\n",
    "# move to long format so we can map a column to color channel later\n",
    "chart_data_bar = treatment_duration_df.reset_index().melt(id_vars='days')\n",
    "\n",
    "alt.Chart(chart_data_bar).mark_bar().encode(\n",
    "    x=alt.X('days:O', axis=alt.Axis(title='Dagen na opname')),\n",
    "    y=alt.Y('value:Q', axis=alt.Axis(title='Aantal IC opnamen')),\n",
    "    color=alt.Color('variable:N', legend=alt.Legend(title='Uitkomst'))\n",
    ")"
   ]
  },
  {
   "cell_type": "code",
   "execution_count": 107,
   "metadata": {},
   "outputs": [
    {
     "data": {
      "text/html": [
       "\n",
       "<div id=\"altair-viz-b9675a4c73504ab8b00a6ff685e46196\"></div>\n",
       "<script type=\"text/javascript\">\n",
       "  (function(spec, embedOpt){\n",
       "    let outputDiv = document.currentScript.previousElementSibling;\n",
       "    if (outputDiv.id !== \"altair-viz-b9675a4c73504ab8b00a6ff685e46196\") {\n",
       "      outputDiv = document.getElementById(\"altair-viz-b9675a4c73504ab8b00a6ff685e46196\");\n",
       "    }\n",
       "    const paths = {\n",
       "      \"vega\": \"https://cdn.jsdelivr.net/npm//vega@5?noext\",\n",
       "      \"vega-lib\": \"https://cdn.jsdelivr.net/npm//vega-lib?noext\",\n",
       "      \"vega-lite\": \"https://cdn.jsdelivr.net/npm//vega-lite@4.8.1?noext\",\n",
       "      \"vega-embed\": \"https://cdn.jsdelivr.net/npm//vega-embed@6?noext\",\n",
       "    };\n",
       "\n",
       "    function loadScript(lib) {\n",
       "      return new Promise(function(resolve, reject) {\n",
       "        var s = document.createElement('script');\n",
       "        s.src = paths[lib];\n",
       "        s.async = true;\n",
       "        s.onload = () => resolve(paths[lib]);\n",
       "        s.onerror = () => reject(`Error loading script: ${paths[lib]}`);\n",
       "        document.getElementsByTagName(\"head\")[0].appendChild(s);\n",
       "      });\n",
       "    }\n",
       "\n",
       "    function showError(err) {\n",
       "      outputDiv.innerHTML = `<div class=\"error\" style=\"color:red;\">${err}</div>`;\n",
       "      throw err;\n",
       "    }\n",
       "\n",
       "    function displayChart(vegaEmbed) {\n",
       "      vegaEmbed(outputDiv, spec, embedOpt)\n",
       "        .catch(err => showError(`Javascript Error: ${err.message}<br>This usually means there's a typo in your chart specification. See the javascript console for the full traceback.`));\n",
       "    }\n",
       "\n",
       "    if(typeof define === \"function\" && define.amd) {\n",
       "      requirejs.config({paths});\n",
       "      require([\"vega-embed\"], displayChart, err => showError(`Error loading script: ${err.message}`));\n",
       "    } else if (typeof vegaEmbed === \"function\") {\n",
       "      displayChart(vegaEmbed);\n",
       "    } else {\n",
       "      loadScript(\"vega\")\n",
       "        .then(() => loadScript(\"vega-lite\"))\n",
       "        .then(() => loadScript(\"vega-embed\"))\n",
       "        .catch(showError)\n",
       "        .then(() => displayChart(vegaEmbed));\n",
       "    }\n",
       "  })({\"config\": {\"view\": {\"continuousWidth\": 400, \"continuousHeight\": 300}}, \"data\": {\"name\": \"data-f9ca9def53e0a0adf5d6c60c8f4a02ce\"}, \"mark\": \"line\", \"encoding\": {\"color\": {\"type\": \"nominal\", \"field\": \"variable\", \"legend\": {\"title\": \"Uitkomst\"}}, \"x\": {\"type\": \"ordinal\", \"axis\": {\"title\": \"Dagen na opname\"}, \"field\": \"days\"}, \"y\": {\"type\": \"quantitative\", \"axis\": {\"title\": \"Aantal IC opnamen\"}, \"field\": \"value\"}}, \"$schema\": \"https://vega.github.io/schema/vega-lite/v4.8.1.json\", \"datasets\": {\"data-f9ca9def53e0a0adf5d6c60c8f4a02ce\": [{\"days\": 0, \"variable\": \"levend_nog_opgenomen_ziekenhuis\", \"value\": 0.0}, {\"days\": 1, \"variable\": \"levend_nog_opgenomen_ziekenhuis\", \"value\": 20.0}, {\"days\": 2, \"variable\": \"levend_nog_opgenomen_ziekenhuis\", \"value\": 40.0}, {\"days\": 3, \"variable\": \"levend_nog_opgenomen_ziekenhuis\", \"value\": 59.0}, {\"days\": 4, \"variable\": \"levend_nog_opgenomen_ziekenhuis\", \"value\": 72.0}, {\"days\": 5, \"variable\": \"levend_nog_opgenomen_ziekenhuis\", \"value\": 91.0}, {\"days\": 6, \"variable\": \"levend_nog_opgenomen_ziekenhuis\", \"value\": 102.0}, {\"days\": 7, \"variable\": \"levend_nog_opgenomen_ziekenhuis\", \"value\": 112.0}, {\"days\": 8, \"variable\": \"levend_nog_opgenomen_ziekenhuis\", \"value\": 122.0}, {\"days\": 9, \"variable\": \"levend_nog_opgenomen_ziekenhuis\", \"value\": 125.0}, {\"days\": 10, \"variable\": \"levend_nog_opgenomen_ziekenhuis\", \"value\": 130.0}, {\"days\": 11, \"variable\": \"levend_nog_opgenomen_ziekenhuis\", \"value\": 137.0}, {\"days\": 12, \"variable\": \"levend_nog_opgenomen_ziekenhuis\", \"value\": 149.0}, {\"days\": 13, \"variable\": \"levend_nog_opgenomen_ziekenhuis\", \"value\": 164.0}, {\"days\": 14, \"variable\": \"levend_nog_opgenomen_ziekenhuis\", \"value\": 179.0}, {\"days\": 15, \"variable\": \"levend_nog_opgenomen_ziekenhuis\", \"value\": 189.0}, {\"days\": 16, \"variable\": \"levend_nog_opgenomen_ziekenhuis\", \"value\": 216.0}, {\"days\": 17, \"variable\": \"levend_nog_opgenomen_ziekenhuis\", \"value\": 241.0}, {\"days\": 18, \"variable\": \"levend_nog_opgenomen_ziekenhuis\", \"value\": 262.0}, {\"days\": 19, \"variable\": \"levend_nog_opgenomen_ziekenhuis\", \"value\": 274.0}, {\"days\": 20, \"variable\": \"levend_nog_opgenomen_ziekenhuis\", \"value\": 299.0}, {\"days\": 21, \"variable\": \"levend_nog_opgenomen_ziekenhuis\", \"value\": 324.0}, {\"days\": 22, \"variable\": \"levend_nog_opgenomen_ziekenhuis\", \"value\": 345.0}, {\"days\": 23, \"variable\": \"levend_nog_opgenomen_ziekenhuis\", \"value\": 368.0}, {\"days\": 24, \"variable\": \"levend_nog_opgenomen_ziekenhuis\", \"value\": 383.0}, {\"days\": 25, \"variable\": \"levend_nog_opgenomen_ziekenhuis\", \"value\": 396.0}, {\"days\": 26, \"variable\": \"levend_nog_opgenomen_ziekenhuis\", \"value\": 417.0}, {\"days\": 27, \"variable\": \"levend_nog_opgenomen_ziekenhuis\", \"value\": 442.0}, {\"days\": 28, \"variable\": \"levend_nog_opgenomen_ziekenhuis\", \"value\": 461.0}, {\"days\": 29, \"variable\": \"levend_nog_opgenomen_ziekenhuis\", \"value\": 486.0}, {\"days\": 30, \"variable\": \"levend_nog_opgenomen_ziekenhuis\", \"value\": 502.0}, {\"days\": 31, \"variable\": \"levend_nog_opgenomen_ziekenhuis\", \"value\": 523.0}, {\"days\": 32, \"variable\": \"levend_nog_opgenomen_ziekenhuis\", \"value\": 547.0}, {\"days\": 33, \"variable\": \"levend_nog_opgenomen_ziekenhuis\", \"value\": 568.0}, {\"days\": 34, \"variable\": \"levend_nog_opgenomen_ziekenhuis\", \"value\": 598.0}, {\"days\": 35, \"variable\": \"levend_nog_opgenomen_ziekenhuis\", \"value\": 614.0}, {\"days\": 36, \"variable\": \"levend_nog_opgenomen_ziekenhuis\", \"value\": 632.0}, {\"days\": 37, \"variable\": \"levend_nog_opgenomen_ziekenhuis\", \"value\": 651.0}, {\"days\": 38, \"variable\": \"levend_nog_opgenomen_ziekenhuis\", \"value\": 669.0}, {\"days\": 39, \"variable\": \"levend_nog_opgenomen_ziekenhuis\", \"value\": 676.0}, {\"days\": 0, \"variable\": \"nog_opgenomen_ic\", \"value\": 0.0}, {\"days\": 1, \"variable\": \"nog_opgenomen_ic\", \"value\": 7.0}, {\"days\": 2, \"variable\": \"nog_opgenomen_ic\", \"value\": 22.0}, {\"days\": 3, \"variable\": \"nog_opgenomen_ic\", \"value\": 31.0}, {\"days\": 4, \"variable\": \"nog_opgenomen_ic\", \"value\": 42.0}, {\"days\": 5, \"variable\": \"nog_opgenomen_ic\", \"value\": 55.0}, {\"days\": 6, \"variable\": \"nog_opgenomen_ic\", \"value\": 71.0}, {\"days\": 7, \"variable\": \"nog_opgenomen_ic\", \"value\": 82.0}, {\"days\": 8, \"variable\": \"nog_opgenomen_ic\", \"value\": 94.0}, {\"days\": 9, \"variable\": \"nog_opgenomen_ic\", \"value\": 109.0}, {\"days\": 10, \"variable\": \"nog_opgenomen_ic\", \"value\": 129.0}, {\"days\": 11, \"variable\": \"nog_opgenomen_ic\", \"value\": 151.0}, {\"days\": 12, \"variable\": \"nog_opgenomen_ic\", \"value\": 178.0}, {\"days\": 13, \"variable\": \"nog_opgenomen_ic\", \"value\": 202.0}, {\"days\": 14, \"variable\": \"nog_opgenomen_ic\", \"value\": 225.0}, {\"days\": 15, \"variable\": \"nog_opgenomen_ic\", \"value\": 240.0}, {\"days\": 16, \"variable\": \"nog_opgenomen_ic\", \"value\": 260.0}, {\"days\": 17, \"variable\": \"nog_opgenomen_ic\", \"value\": 288.0}, {\"days\": 18, \"variable\": \"nog_opgenomen_ic\", \"value\": 308.0}, {\"days\": 19, \"variable\": \"nog_opgenomen_ic\", \"value\": 328.0}, {\"days\": 20, \"variable\": \"nog_opgenomen_ic\", \"value\": 356.0}, {\"days\": 21, \"variable\": \"nog_opgenomen_ic\", \"value\": 382.0}, {\"days\": 22, \"variable\": \"nog_opgenomen_ic\", \"value\": 399.0}, {\"days\": 23, \"variable\": \"nog_opgenomen_ic\", \"value\": 433.0}, {\"days\": 24, \"variable\": \"nog_opgenomen_ic\", \"value\": 466.0}, {\"days\": 25, \"variable\": \"nog_opgenomen_ic\", \"value\": 499.0}, {\"days\": 26, \"variable\": \"nog_opgenomen_ic\", \"value\": 525.0}, {\"days\": 27, \"variable\": \"nog_opgenomen_ic\", \"value\": 578.0}, {\"days\": 28, \"variable\": \"nog_opgenomen_ic\", \"value\": 611.0}, {\"days\": 29, \"variable\": \"nog_opgenomen_ic\", \"value\": 639.0}, {\"days\": 30, \"variable\": \"nog_opgenomen_ic\", \"value\": 678.0}, {\"days\": 31, \"variable\": \"nog_opgenomen_ic\", \"value\": 700.0}, {\"days\": 32, \"variable\": \"nog_opgenomen_ic\", \"value\": 725.0}, {\"days\": 33, \"variable\": \"nog_opgenomen_ic\", \"value\": 745.0}, {\"days\": 34, \"variable\": \"nog_opgenomen_ic\", \"value\": 758.0}, {\"days\": 35, \"variable\": \"nog_opgenomen_ic\", \"value\": 776.0}, {\"days\": 36, \"variable\": \"nog_opgenomen_ic\", \"value\": 792.0}, {\"days\": 37, \"variable\": \"nog_opgenomen_ic\", \"value\": 808.0}, {\"days\": 38, \"variable\": \"nog_opgenomen_ic\", \"value\": 821.0}, {\"days\": 39, \"variable\": \"nog_opgenomen_ic\", \"value\": 827.0}, {\"days\": 0, \"variable\": \"levend_ziekenhuis_verlaten\", \"value\": 0.0}, {\"days\": 1, \"variable\": \"levend_ziekenhuis_verlaten\", \"value\": 3.0}, {\"days\": 2, \"variable\": \"levend_ziekenhuis_verlaten\", \"value\": 6.0}, {\"days\": 3, \"variable\": \"levend_ziekenhuis_verlaten\", \"value\": 20.0}, {\"days\": 4, \"variable\": \"levend_ziekenhuis_verlaten\", \"value\": 31.0}, {\"days\": 5, \"variable\": \"levend_ziekenhuis_verlaten\", \"value\": 40.0}, {\"days\": 6, \"variable\": \"levend_ziekenhuis_verlaten\", \"value\": 51.0}, {\"days\": 7, \"variable\": \"levend_ziekenhuis_verlaten\", \"value\": 63.0}, {\"days\": 8, \"variable\": \"levend_ziekenhuis_verlaten\", \"value\": 76.0}, {\"days\": 9, \"variable\": \"levend_ziekenhuis_verlaten\", \"value\": 88.0}, {\"days\": 10, \"variable\": \"levend_ziekenhuis_verlaten\", \"value\": 107.0}, {\"days\": 11, \"variable\": \"levend_ziekenhuis_verlaten\", \"value\": 127.0}, {\"days\": 12, \"variable\": \"levend_ziekenhuis_verlaten\", \"value\": 154.0}, {\"days\": 13, \"variable\": \"levend_ziekenhuis_verlaten\", \"value\": 181.0}, {\"days\": 14, \"variable\": \"levend_ziekenhuis_verlaten\", \"value\": 209.0}, {\"days\": 15, \"variable\": \"levend_ziekenhuis_verlaten\", \"value\": 231.0}, {\"days\": 16, \"variable\": \"levend_ziekenhuis_verlaten\", \"value\": 266.0}, {\"days\": 17, \"variable\": \"levend_ziekenhuis_verlaten\", \"value\": 292.0}, {\"days\": 18, \"variable\": \"levend_ziekenhuis_verlaten\", \"value\": 314.0}, {\"days\": 19, \"variable\": \"levend_ziekenhuis_verlaten\", \"value\": 340.0}, {\"days\": 20, \"variable\": \"levend_ziekenhuis_verlaten\", \"value\": 364.0}, {\"days\": 21, \"variable\": \"levend_ziekenhuis_verlaten\", \"value\": 382.0}, {\"days\": 22, \"variable\": \"levend_ziekenhuis_verlaten\", \"value\": 406.0}, {\"days\": 23, \"variable\": \"levend_ziekenhuis_verlaten\", \"value\": 419.0}, {\"days\": 24, \"variable\": \"levend_ziekenhuis_verlaten\", \"value\": 433.0}, {\"days\": 25, \"variable\": \"levend_ziekenhuis_verlaten\", \"value\": 445.0}, {\"days\": 26, \"variable\": \"levend_ziekenhuis_verlaten\", \"value\": 460.0}, {\"days\": 27, \"variable\": \"levend_ziekenhuis_verlaten\", \"value\": 473.0}, {\"days\": 28, \"variable\": \"levend_ziekenhuis_verlaten\", \"value\": 483.0}, {\"days\": 29, \"variable\": \"levend_ziekenhuis_verlaten\", \"value\": 486.0}, {\"days\": 30, \"variable\": \"levend_ziekenhuis_verlaten\", \"value\": 498.0}, {\"days\": 31, \"variable\": \"levend_ziekenhuis_verlaten\", \"value\": 505.0}, {\"days\": 32, \"variable\": \"levend_ziekenhuis_verlaten\", \"value\": 511.0}, {\"days\": 33, \"variable\": \"levend_ziekenhuis_verlaten\", \"value\": 516.0}, {\"days\": 34, \"variable\": \"levend_ziekenhuis_verlaten\", \"value\": 519.0}, {\"days\": 35, \"variable\": \"levend_ziekenhuis_verlaten\", \"value\": 524.0}, {\"days\": 36, \"variable\": \"levend_ziekenhuis_verlaten\", \"value\": 528.0}, {\"days\": 37, \"variable\": \"levend_ziekenhuis_verlaten\", \"value\": 529.0}, {\"days\": 38, \"variable\": \"levend_ziekenhuis_verlaten\", \"value\": 529.0}, {\"days\": 39, \"variable\": \"levend_ziekenhuis_verlaten\", \"value\": 529.0}, {\"days\": 0, \"variable\": \"overleden\", \"value\": 0.0}, {\"days\": 1, \"variable\": \"overleden\", \"value\": 24.0}, {\"days\": 2, \"variable\": \"overleden\", \"value\": 54.0}, {\"days\": 3, \"variable\": \"overleden\", \"value\": 80.0}, {\"days\": 4, \"variable\": \"overleden\", \"value\": 116.0}, {\"days\": 5, \"variable\": \"overleden\", \"value\": 154.0}, {\"days\": 6, \"variable\": \"overleden\", \"value\": 186.0}, {\"days\": 7, \"variable\": \"overleden\", \"value\": 216.0}, {\"days\": 8, \"variable\": \"overleden\", \"value\": 255.0}, {\"days\": 9, \"variable\": \"overleden\", \"value\": 288.0}, {\"days\": 10, \"variable\": \"overleden\", \"value\": 320.0}, {\"days\": 11, \"variable\": \"overleden\", \"value\": 347.0}, {\"days\": 12, \"variable\": \"overleden\", \"value\": 379.0}, {\"days\": 13, \"variable\": \"overleden\", \"value\": 400.0}, {\"days\": 14, \"variable\": \"overleden\", \"value\": 423.0}, {\"days\": 15, \"variable\": \"overleden\", \"value\": 449.0}, {\"days\": 16, \"variable\": \"overleden\", \"value\": 472.0}, {\"days\": 17, \"variable\": \"overleden\", \"value\": 482.0}, {\"days\": 18, \"variable\": \"overleden\", \"value\": 502.0}, {\"days\": 19, \"variable\": \"overleden\", \"value\": 523.0}, {\"days\": 20, \"variable\": \"overleden\", \"value\": 543.0}, {\"days\": 21, \"variable\": \"overleden\", \"value\": 557.0}, {\"days\": 22, \"variable\": \"overleden\", \"value\": 566.0}, {\"days\": 23, \"variable\": \"overleden\", \"value\": 584.0}, {\"days\": 24, \"variable\": \"overleden\", \"value\": 597.0}, {\"days\": 25, \"variable\": \"overleden\", \"value\": 612.0}, {\"days\": 26, \"variable\": \"overleden\", \"value\": 624.0}, {\"days\": 27, \"variable\": \"overleden\", \"value\": 632.0}, {\"days\": 28, \"variable\": \"overleden\", \"value\": 639.0}, {\"days\": 29, \"variable\": \"overleden\", \"value\": 645.0}, {\"days\": 30, \"variable\": \"overleden\", \"value\": 646.0}, {\"days\": 31, \"variable\": \"overleden\", \"value\": 650.0}, {\"days\": 32, \"variable\": \"overleden\", \"value\": 655.0}, {\"days\": 33, \"variable\": \"overleden\", \"value\": 656.0}, {\"days\": 34, \"variable\": \"overleden\", \"value\": 658.0}, {\"days\": 35, \"variable\": \"overleden\", \"value\": 658.0}, {\"days\": 36, \"variable\": \"overleden\", \"value\": 658.0}, {\"days\": 37, \"variable\": \"overleden\", \"value\": 658.0}, {\"days\": 38, \"variable\": \"overleden\", \"value\": 658.0}, {\"days\": 39, \"variable\": \"overleden\", \"value\": 658.0}]}}, {\"mode\": \"vega-lite\"});\n",
       "</script>"
      ],
      "text/plain": [
       "alt.Chart(...)"
      ]
     },
     "execution_count": 107,
     "metadata": {},
     "output_type": "execute_result"
    }
   ],
   "source": [
    "# Take cumulative sum\n",
    "# move to long format so we can map a column to color channel later\n",
    "chart_data = treatment_duration_df.cumsum().reset_index().melt(id_vars='days')\n",
    "\n",
    "alt.Chart(chart_data).mark_line().encode(\n",
    "    x=alt.X('days:O', axis=alt.Axis(title='Dagen na opname')),\n",
    "    y=alt.Y('value:Q', axis=alt.Axis(title='Aantal IC opnamen')),\n",
    "    color=alt.Color('variable:N', legend=alt.Legend(title='Uitkomst'))\n",
    ")"
   ]
  },
  {
   "cell_type": "code",
   "execution_count": 106,
   "metadata": {},
   "outputs": [
    {
     "data": {
      "text/html": [
       "\n",
       "<div id=\"altair-viz-4031ebf1a6124891b5bd23337c2f67fc\"></div>\n",
       "<script type=\"text/javascript\">\n",
       "  (function(spec, embedOpt){\n",
       "    let outputDiv = document.currentScript.previousElementSibling;\n",
       "    if (outputDiv.id !== \"altair-viz-4031ebf1a6124891b5bd23337c2f67fc\") {\n",
       "      outputDiv = document.getElementById(\"altair-viz-4031ebf1a6124891b5bd23337c2f67fc\");\n",
       "    }\n",
       "    const paths = {\n",
       "      \"vega\": \"https://cdn.jsdelivr.net/npm//vega@5?noext\",\n",
       "      \"vega-lib\": \"https://cdn.jsdelivr.net/npm//vega-lib?noext\",\n",
       "      \"vega-lite\": \"https://cdn.jsdelivr.net/npm//vega-lite@4.8.1?noext\",\n",
       "      \"vega-embed\": \"https://cdn.jsdelivr.net/npm//vega-embed@6?noext\",\n",
       "    };\n",
       "\n",
       "    function loadScript(lib) {\n",
       "      return new Promise(function(resolve, reject) {\n",
       "        var s = document.createElement('script');\n",
       "        s.src = paths[lib];\n",
       "        s.async = true;\n",
       "        s.onload = () => resolve(paths[lib]);\n",
       "        s.onerror = () => reject(`Error loading script: ${paths[lib]}`);\n",
       "        document.getElementsByTagName(\"head\")[0].appendChild(s);\n",
       "      });\n",
       "    }\n",
       "\n",
       "    function showError(err) {\n",
       "      outputDiv.innerHTML = `<div class=\"error\" style=\"color:red;\">${err}</div>`;\n",
       "      throw err;\n",
       "    }\n",
       "\n",
       "    function displayChart(vegaEmbed) {\n",
       "      vegaEmbed(outputDiv, spec, embedOpt)\n",
       "        .catch(err => showError(`Javascript Error: ${err.message}<br>This usually means there's a typo in your chart specification. See the javascript console for the full traceback.`));\n",
       "    }\n",
       "\n",
       "    if(typeof define === \"function\" && define.amd) {\n",
       "      requirejs.config({paths});\n",
       "      require([\"vega-embed\"], displayChart, err => showError(`Error loading script: ${err.message}`));\n",
       "    } else if (typeof vegaEmbed === \"function\") {\n",
       "      displayChart(vegaEmbed);\n",
       "    } else {\n",
       "      loadScript(\"vega\")\n",
       "        .then(() => loadScript(\"vega-lite\"))\n",
       "        .then(() => loadScript(\"vega-embed\"))\n",
       "        .catch(showError)\n",
       "        .then(() => displayChart(vegaEmbed));\n",
       "    }\n",
       "  })({\"config\": {\"view\": {\"continuousWidth\": 400, \"continuousHeight\": 300}}, \"data\": {\"name\": \"data-f9ca9def53e0a0adf5d6c60c8f4a02ce\"}, \"mark\": \"area\", \"encoding\": {\"color\": {\"type\": \"nominal\", \"field\": \"variable\", \"legend\": {\"title\": \"Uitkomst\"}}, \"x\": {\"type\": \"ordinal\", \"axis\": {\"title\": \"Dagen na opname\"}, \"field\": \"days\"}, \"y\": {\"type\": \"quantitative\", \"axis\": {\"title\": \"Aantal IC opnamen\"}, \"field\": \"value\"}}, \"$schema\": \"https://vega.github.io/schema/vega-lite/v4.8.1.json\", \"datasets\": {\"data-f9ca9def53e0a0adf5d6c60c8f4a02ce\": [{\"days\": 0, \"variable\": \"levend_nog_opgenomen_ziekenhuis\", \"value\": 0.0}, {\"days\": 1, \"variable\": \"levend_nog_opgenomen_ziekenhuis\", \"value\": 20.0}, {\"days\": 2, \"variable\": \"levend_nog_opgenomen_ziekenhuis\", \"value\": 40.0}, {\"days\": 3, \"variable\": \"levend_nog_opgenomen_ziekenhuis\", \"value\": 59.0}, {\"days\": 4, \"variable\": \"levend_nog_opgenomen_ziekenhuis\", \"value\": 72.0}, {\"days\": 5, \"variable\": \"levend_nog_opgenomen_ziekenhuis\", \"value\": 91.0}, {\"days\": 6, \"variable\": \"levend_nog_opgenomen_ziekenhuis\", \"value\": 102.0}, {\"days\": 7, \"variable\": \"levend_nog_opgenomen_ziekenhuis\", \"value\": 112.0}, {\"days\": 8, \"variable\": \"levend_nog_opgenomen_ziekenhuis\", \"value\": 122.0}, {\"days\": 9, \"variable\": \"levend_nog_opgenomen_ziekenhuis\", \"value\": 125.0}, {\"days\": 10, \"variable\": \"levend_nog_opgenomen_ziekenhuis\", \"value\": 130.0}, {\"days\": 11, \"variable\": \"levend_nog_opgenomen_ziekenhuis\", \"value\": 137.0}, {\"days\": 12, \"variable\": \"levend_nog_opgenomen_ziekenhuis\", \"value\": 149.0}, {\"days\": 13, \"variable\": \"levend_nog_opgenomen_ziekenhuis\", \"value\": 164.0}, {\"days\": 14, \"variable\": \"levend_nog_opgenomen_ziekenhuis\", \"value\": 179.0}, {\"days\": 15, \"variable\": \"levend_nog_opgenomen_ziekenhuis\", \"value\": 189.0}, {\"days\": 16, \"variable\": \"levend_nog_opgenomen_ziekenhuis\", \"value\": 216.0}, {\"days\": 17, \"variable\": \"levend_nog_opgenomen_ziekenhuis\", \"value\": 241.0}, {\"days\": 18, \"variable\": \"levend_nog_opgenomen_ziekenhuis\", \"value\": 262.0}, {\"days\": 19, \"variable\": \"levend_nog_opgenomen_ziekenhuis\", \"value\": 274.0}, {\"days\": 20, \"variable\": \"levend_nog_opgenomen_ziekenhuis\", \"value\": 299.0}, {\"days\": 21, \"variable\": \"levend_nog_opgenomen_ziekenhuis\", \"value\": 324.0}, {\"days\": 22, \"variable\": \"levend_nog_opgenomen_ziekenhuis\", \"value\": 345.0}, {\"days\": 23, \"variable\": \"levend_nog_opgenomen_ziekenhuis\", \"value\": 368.0}, {\"days\": 24, \"variable\": \"levend_nog_opgenomen_ziekenhuis\", \"value\": 383.0}, {\"days\": 25, \"variable\": \"levend_nog_opgenomen_ziekenhuis\", \"value\": 396.0}, {\"days\": 26, \"variable\": \"levend_nog_opgenomen_ziekenhuis\", \"value\": 417.0}, {\"days\": 27, \"variable\": \"levend_nog_opgenomen_ziekenhuis\", \"value\": 442.0}, {\"days\": 28, \"variable\": \"levend_nog_opgenomen_ziekenhuis\", \"value\": 461.0}, {\"days\": 29, \"variable\": \"levend_nog_opgenomen_ziekenhuis\", \"value\": 486.0}, {\"days\": 30, \"variable\": \"levend_nog_opgenomen_ziekenhuis\", \"value\": 502.0}, {\"days\": 31, \"variable\": \"levend_nog_opgenomen_ziekenhuis\", \"value\": 523.0}, {\"days\": 32, \"variable\": \"levend_nog_opgenomen_ziekenhuis\", \"value\": 547.0}, {\"days\": 33, \"variable\": \"levend_nog_opgenomen_ziekenhuis\", \"value\": 568.0}, {\"days\": 34, \"variable\": \"levend_nog_opgenomen_ziekenhuis\", \"value\": 598.0}, {\"days\": 35, \"variable\": \"levend_nog_opgenomen_ziekenhuis\", \"value\": 614.0}, {\"days\": 36, \"variable\": \"levend_nog_opgenomen_ziekenhuis\", \"value\": 632.0}, {\"days\": 37, \"variable\": \"levend_nog_opgenomen_ziekenhuis\", \"value\": 651.0}, {\"days\": 38, \"variable\": \"levend_nog_opgenomen_ziekenhuis\", \"value\": 669.0}, {\"days\": 39, \"variable\": \"levend_nog_opgenomen_ziekenhuis\", \"value\": 676.0}, {\"days\": 0, \"variable\": \"nog_opgenomen_ic\", \"value\": 0.0}, {\"days\": 1, \"variable\": \"nog_opgenomen_ic\", \"value\": 7.0}, {\"days\": 2, \"variable\": \"nog_opgenomen_ic\", \"value\": 22.0}, {\"days\": 3, \"variable\": \"nog_opgenomen_ic\", \"value\": 31.0}, {\"days\": 4, \"variable\": \"nog_opgenomen_ic\", \"value\": 42.0}, {\"days\": 5, \"variable\": \"nog_opgenomen_ic\", \"value\": 55.0}, {\"days\": 6, \"variable\": \"nog_opgenomen_ic\", \"value\": 71.0}, {\"days\": 7, \"variable\": \"nog_opgenomen_ic\", \"value\": 82.0}, {\"days\": 8, \"variable\": \"nog_opgenomen_ic\", \"value\": 94.0}, {\"days\": 9, \"variable\": \"nog_opgenomen_ic\", \"value\": 109.0}, {\"days\": 10, \"variable\": \"nog_opgenomen_ic\", \"value\": 129.0}, {\"days\": 11, \"variable\": \"nog_opgenomen_ic\", \"value\": 151.0}, {\"days\": 12, \"variable\": \"nog_opgenomen_ic\", \"value\": 178.0}, {\"days\": 13, \"variable\": \"nog_opgenomen_ic\", \"value\": 202.0}, {\"days\": 14, \"variable\": \"nog_opgenomen_ic\", \"value\": 225.0}, {\"days\": 15, \"variable\": \"nog_opgenomen_ic\", \"value\": 240.0}, {\"days\": 16, \"variable\": \"nog_opgenomen_ic\", \"value\": 260.0}, {\"days\": 17, \"variable\": \"nog_opgenomen_ic\", \"value\": 288.0}, {\"days\": 18, \"variable\": \"nog_opgenomen_ic\", \"value\": 308.0}, {\"days\": 19, \"variable\": \"nog_opgenomen_ic\", \"value\": 328.0}, {\"days\": 20, \"variable\": \"nog_opgenomen_ic\", \"value\": 356.0}, {\"days\": 21, \"variable\": \"nog_opgenomen_ic\", \"value\": 382.0}, {\"days\": 22, \"variable\": \"nog_opgenomen_ic\", \"value\": 399.0}, {\"days\": 23, \"variable\": \"nog_opgenomen_ic\", \"value\": 433.0}, {\"days\": 24, \"variable\": \"nog_opgenomen_ic\", \"value\": 466.0}, {\"days\": 25, \"variable\": \"nog_opgenomen_ic\", \"value\": 499.0}, {\"days\": 26, \"variable\": \"nog_opgenomen_ic\", \"value\": 525.0}, {\"days\": 27, \"variable\": \"nog_opgenomen_ic\", \"value\": 578.0}, {\"days\": 28, \"variable\": \"nog_opgenomen_ic\", \"value\": 611.0}, {\"days\": 29, \"variable\": \"nog_opgenomen_ic\", \"value\": 639.0}, {\"days\": 30, \"variable\": \"nog_opgenomen_ic\", \"value\": 678.0}, {\"days\": 31, \"variable\": \"nog_opgenomen_ic\", \"value\": 700.0}, {\"days\": 32, \"variable\": \"nog_opgenomen_ic\", \"value\": 725.0}, {\"days\": 33, \"variable\": \"nog_opgenomen_ic\", \"value\": 745.0}, {\"days\": 34, \"variable\": \"nog_opgenomen_ic\", \"value\": 758.0}, {\"days\": 35, \"variable\": \"nog_opgenomen_ic\", \"value\": 776.0}, {\"days\": 36, \"variable\": \"nog_opgenomen_ic\", \"value\": 792.0}, {\"days\": 37, \"variable\": \"nog_opgenomen_ic\", \"value\": 808.0}, {\"days\": 38, \"variable\": \"nog_opgenomen_ic\", \"value\": 821.0}, {\"days\": 39, \"variable\": \"nog_opgenomen_ic\", \"value\": 827.0}, {\"days\": 0, \"variable\": \"levend_ziekenhuis_verlaten\", \"value\": 0.0}, {\"days\": 1, \"variable\": \"levend_ziekenhuis_verlaten\", \"value\": 3.0}, {\"days\": 2, \"variable\": \"levend_ziekenhuis_verlaten\", \"value\": 6.0}, {\"days\": 3, \"variable\": \"levend_ziekenhuis_verlaten\", \"value\": 20.0}, {\"days\": 4, \"variable\": \"levend_ziekenhuis_verlaten\", \"value\": 31.0}, {\"days\": 5, \"variable\": \"levend_ziekenhuis_verlaten\", \"value\": 40.0}, {\"days\": 6, \"variable\": \"levend_ziekenhuis_verlaten\", \"value\": 51.0}, {\"days\": 7, \"variable\": \"levend_ziekenhuis_verlaten\", \"value\": 63.0}, {\"days\": 8, \"variable\": \"levend_ziekenhuis_verlaten\", \"value\": 76.0}, {\"days\": 9, \"variable\": \"levend_ziekenhuis_verlaten\", \"value\": 88.0}, {\"days\": 10, \"variable\": \"levend_ziekenhuis_verlaten\", \"value\": 107.0}, {\"days\": 11, \"variable\": \"levend_ziekenhuis_verlaten\", \"value\": 127.0}, {\"days\": 12, \"variable\": \"levend_ziekenhuis_verlaten\", \"value\": 154.0}, {\"days\": 13, \"variable\": \"levend_ziekenhuis_verlaten\", \"value\": 181.0}, {\"days\": 14, \"variable\": \"levend_ziekenhuis_verlaten\", \"value\": 209.0}, {\"days\": 15, \"variable\": \"levend_ziekenhuis_verlaten\", \"value\": 231.0}, {\"days\": 16, \"variable\": \"levend_ziekenhuis_verlaten\", \"value\": 266.0}, {\"days\": 17, \"variable\": \"levend_ziekenhuis_verlaten\", \"value\": 292.0}, {\"days\": 18, \"variable\": \"levend_ziekenhuis_verlaten\", \"value\": 314.0}, {\"days\": 19, \"variable\": \"levend_ziekenhuis_verlaten\", \"value\": 340.0}, {\"days\": 20, \"variable\": \"levend_ziekenhuis_verlaten\", \"value\": 364.0}, {\"days\": 21, \"variable\": \"levend_ziekenhuis_verlaten\", \"value\": 382.0}, {\"days\": 22, \"variable\": \"levend_ziekenhuis_verlaten\", \"value\": 406.0}, {\"days\": 23, \"variable\": \"levend_ziekenhuis_verlaten\", \"value\": 419.0}, {\"days\": 24, \"variable\": \"levend_ziekenhuis_verlaten\", \"value\": 433.0}, {\"days\": 25, \"variable\": \"levend_ziekenhuis_verlaten\", \"value\": 445.0}, {\"days\": 26, \"variable\": \"levend_ziekenhuis_verlaten\", \"value\": 460.0}, {\"days\": 27, \"variable\": \"levend_ziekenhuis_verlaten\", \"value\": 473.0}, {\"days\": 28, \"variable\": \"levend_ziekenhuis_verlaten\", \"value\": 483.0}, {\"days\": 29, \"variable\": \"levend_ziekenhuis_verlaten\", \"value\": 486.0}, {\"days\": 30, \"variable\": \"levend_ziekenhuis_verlaten\", \"value\": 498.0}, {\"days\": 31, \"variable\": \"levend_ziekenhuis_verlaten\", \"value\": 505.0}, {\"days\": 32, \"variable\": \"levend_ziekenhuis_verlaten\", \"value\": 511.0}, {\"days\": 33, \"variable\": \"levend_ziekenhuis_verlaten\", \"value\": 516.0}, {\"days\": 34, \"variable\": \"levend_ziekenhuis_verlaten\", \"value\": 519.0}, {\"days\": 35, \"variable\": \"levend_ziekenhuis_verlaten\", \"value\": 524.0}, {\"days\": 36, \"variable\": \"levend_ziekenhuis_verlaten\", \"value\": 528.0}, {\"days\": 37, \"variable\": \"levend_ziekenhuis_verlaten\", \"value\": 529.0}, {\"days\": 38, \"variable\": \"levend_ziekenhuis_verlaten\", \"value\": 529.0}, {\"days\": 39, \"variable\": \"levend_ziekenhuis_verlaten\", \"value\": 529.0}, {\"days\": 0, \"variable\": \"overleden\", \"value\": 0.0}, {\"days\": 1, \"variable\": \"overleden\", \"value\": 24.0}, {\"days\": 2, \"variable\": \"overleden\", \"value\": 54.0}, {\"days\": 3, \"variable\": \"overleden\", \"value\": 80.0}, {\"days\": 4, \"variable\": \"overleden\", \"value\": 116.0}, {\"days\": 5, \"variable\": \"overleden\", \"value\": 154.0}, {\"days\": 6, \"variable\": \"overleden\", \"value\": 186.0}, {\"days\": 7, \"variable\": \"overleden\", \"value\": 216.0}, {\"days\": 8, \"variable\": \"overleden\", \"value\": 255.0}, {\"days\": 9, \"variable\": \"overleden\", \"value\": 288.0}, {\"days\": 10, \"variable\": \"overleden\", \"value\": 320.0}, {\"days\": 11, \"variable\": \"overleden\", \"value\": 347.0}, {\"days\": 12, \"variable\": \"overleden\", \"value\": 379.0}, {\"days\": 13, \"variable\": \"overleden\", \"value\": 400.0}, {\"days\": 14, \"variable\": \"overleden\", \"value\": 423.0}, {\"days\": 15, \"variable\": \"overleden\", \"value\": 449.0}, {\"days\": 16, \"variable\": \"overleden\", \"value\": 472.0}, {\"days\": 17, \"variable\": \"overleden\", \"value\": 482.0}, {\"days\": 18, \"variable\": \"overleden\", \"value\": 502.0}, {\"days\": 19, \"variable\": \"overleden\", \"value\": 523.0}, {\"days\": 20, \"variable\": \"overleden\", \"value\": 543.0}, {\"days\": 21, \"variable\": \"overleden\", \"value\": 557.0}, {\"days\": 22, \"variable\": \"overleden\", \"value\": 566.0}, {\"days\": 23, \"variable\": \"overleden\", \"value\": 584.0}, {\"days\": 24, \"variable\": \"overleden\", \"value\": 597.0}, {\"days\": 25, \"variable\": \"overleden\", \"value\": 612.0}, {\"days\": 26, \"variable\": \"overleden\", \"value\": 624.0}, {\"days\": 27, \"variable\": \"overleden\", \"value\": 632.0}, {\"days\": 28, \"variable\": \"overleden\", \"value\": 639.0}, {\"days\": 29, \"variable\": \"overleden\", \"value\": 645.0}, {\"days\": 30, \"variable\": \"overleden\", \"value\": 646.0}, {\"days\": 31, \"variable\": \"overleden\", \"value\": 650.0}, {\"days\": 32, \"variable\": \"overleden\", \"value\": 655.0}, {\"days\": 33, \"variable\": \"overleden\", \"value\": 656.0}, {\"days\": 34, \"variable\": \"overleden\", \"value\": 658.0}, {\"days\": 35, \"variable\": \"overleden\", \"value\": 658.0}, {\"days\": 36, \"variable\": \"overleden\", \"value\": 658.0}, {\"days\": 37, \"variable\": \"overleden\", \"value\": 658.0}, {\"days\": 38, \"variable\": \"overleden\", \"value\": 658.0}, {\"days\": 39, \"variable\": \"overleden\", \"value\": 658.0}]}}, {\"mode\": \"vega-lite\"});\n",
       "</script>"
      ],
      "text/plain": [
       "alt.Chart(...)"
      ]
     },
     "execution_count": 106,
     "metadata": {},
     "output_type": "execute_result"
    }
   ],
   "source": [
    "alt.Chart(chart_data).mark_area().encode(\n",
    "    x=alt.X('days:O', axis=alt.Axis(title='Dagen na opname')),\n",
    "    y=alt.Y('value:Q', axis=alt.Axis(title='Aantal IC opnamen')),\n",
    "    color=alt.Color('variable:N', legend=alt.Legend(title='Uitkomst'))\n",
    ")"
   ]
  },
  {
   "cell_type": "code",
   "execution_count": null,
   "metadata": {},
   "outputs": [],
   "source": []
  }
 ],
 "metadata": {
  "kernelspec": {
   "display_name": "Python 3",
   "language": "python",
   "name": "python3"
  },
  "language_info": {
   "codemirror_mode": {
    "name": "ipython",
    "version": 3
   },
   "file_extension": ".py",
   "mimetype": "text/x-python",
   "name": "python",
   "nbconvert_exporter": "python",
   "pygments_lexer": "ipython3",
   "version": "3.8.2"
  }
 },
 "nbformat": 4,
 "nbformat_minor": 4
}
